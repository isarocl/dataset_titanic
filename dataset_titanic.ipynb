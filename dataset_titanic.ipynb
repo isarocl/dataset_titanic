{
  "nbformat": 4,
  "nbformat_minor": 0,
  "metadata": {
    "colab": {
      "name": "dataset_titanic.ipynb",
      "provenance": [],
      "collapsed_sections": [],
      "authorship_tag": "ABX9TyPBq2NXPzRKjJ9LZn0OgH6Y",
      "include_colab_link": true
    },
    "kernelspec": {
      "name": "python3",
      "display_name": "Python 3"
    },
    "accelerator": "GPU"
  },
  "cells": [
    {
      "cell_type": "markdown",
      "metadata": {
        "id": "view-in-github",
        "colab_type": "text"
      },
      "source": [
        "<a href=\"https://colab.research.google.com/github/isarocl/dataset_titanic/blob/master/dataset_titanic.ipynb\" target=\"_parent\"><img src=\"https://colab.research.google.com/assets/colab-badge.svg\" alt=\"Open In Colab\"/></a>"
      ]
    },
    {
      "cell_type": "markdown",
      "metadata": {
        "id": "vgXmhVhR9xS6",
        "colab_type": "text"
      },
      "source": [
        "# **Titanic: Machine Learning from Disaster**\n",
        "[Desafio Kaggle](https://www.kaggle.com/c/titanic)\n",
        "\n",
        "\n",
        "\n",
        "---\n",
        "\n",
        "# **Business Understanding**\n"
      ]
    },
    {
      "cell_type": "markdown",
      "metadata": {
        "id": "hiphkAt7-vs4",
        "colab_type": "text"
      },
      "source": [
        "**Entender e delimitar o problema**\n",
        "\n",
        "\n",
        "O naufrágio do Titanic é um dos mais infames naufrágios da história. Em 15 de abril de 1912, durante sua viagem inaugural, o amplamente considerado \"inafundável\" RMS Titanic afundou após colidir com um iceberg. Infelizmente, não havia barcos salva-vidas suficientes para todos a bordo, resultando na morte de 1502 dos 2224 passageiros e tripulantes. Embora houvesse algum elemento de sorte envolvido na sobrevivência, parece que alguns grupos de pessoas eram mais propensos a sobreviver do que outros. \n",
        "\n",
        "**Obejtivo do Projeto**\n",
        "\n",
        "Construir um modelo preditivo que responda à pergunta: \"Que tipo de pessoas tinham mais probabilidade de sobreviver?\". Usando dados de passageiros (nome, idade, sexo, classe socioeconômica etc.)."
      ]
    },
    {
      "cell_type": "markdown",
      "metadata": {
        "id": "1t6iId_jm_QB",
        "colab_type": "text"
      },
      "source": [
        "# **Data Understanding**"
      ]
    },
    {
      "cell_type": "markdown",
      "metadata": {
        "id": "obUK6oMknenu",
        "colab_type": "text"
      },
      "source": [
        "**Carregar bibliotecas**"
      ]
    },
    {
      "cell_type": "code",
      "metadata": {
        "id": "Ef3gD8Q2m9h2",
        "colab_type": "code",
        "colab": {}
      },
      "source": [
        "import pandas as pd\n",
        "import numpy as np\n",
        "from sklearn.decomposition import PCA\n",
        "import matplotlib.pyplot as plt\n",
        "import seaborn as sns \n",
        "import os as os"
      ],
      "execution_count": null,
      "outputs": []
    },
    {
      "cell_type": "markdown",
      "metadata": {
        "id": "pf4wv4H5opee",
        "colab_type": "text"
      },
      "source": [
        "**Carregar dataset**"
      ]
    },
    {
      "cell_type": "code",
      "metadata": {
        "id": "HuBHszjto8Uy",
        "colab_type": "code",
        "colab": {}
      },
      "source": [
        "train = pd.read_csv('train.csv')\n",
        "test = pd.read_csv('test.csv')"
      ],
      "execution_count": 2,
      "outputs": []
    },
    {
      "cell_type": "markdown",
      "metadata": {
        "id": "mTm6n3DAqSUm",
        "colab_type": "text"
      },
      "source": [
        "**Entender os atributos**"
      ]
    },
    {
      "cell_type": "markdown",
      "metadata": {
        "id": "R_XG27MpqVGK",
        "colab_type": "text"
      },
      "source": [
        "* **PassengerId:** Número de identificação do passageiro;\n",
        "* **Survived:** Indica se o passageiro sobreviveu ao desastre. É atribuído o valor de 0 para aqueles que não sobreviveram, e 1 para quem sobreviveu;\n",
        "* **Pclass:** Classe na qual o passageiro viajou. É informado 1 para primeira classe; 2 para segunda; e 3 para terceira;\n",
        "* **Name:** Nome do passageiro;\n",
        "* **Sex:** Sexo do passageiro;\n",
        "* **Age:** Idade do passageiro em anos;\n",
        "* **SibSp:** Quantidade de irmãos e cônjuges a bordo ;\n",
        "* **Parch:** Quantidade de pais e filhos a bordo;\n",
        "* **Ticket:** Número da passagem;\n",
        "* **Fare:** Preço da passagem;\n",
        "* **Cabin:** Número da cabine do passageiro;\n",
        "* **Embarked:** Indica o porto no qual o passageiro embarcou. Há apenas três valores possíveis: Cherbourg, Queenstown e Southampton, indicados pelas letras “C”, “Q” e “S”, respectivamente\n",
        "\n"
      ]
    },
    {
      "cell_type": "markdown",
      "metadata": {
        "id": "_BjPrVjlrjaV",
        "colab_type": "text"
      },
      "source": [
        "**Verificar tipos dos atributos**"
      ]
    },
    {
      "cell_type": "code",
      "metadata": {
        "id": "8jFwwj-Sr5UX",
        "colab_type": "code",
        "colab": {
          "base_uri": "https://localhost:8080/",
          "height": 51
        },
        "outputId": "b0f9c1e5-cddf-4105-9678-8b93886a1253"
      },
      "source": [
        "print(\"Variáveis:\\t{}\\nEntradas:\\t{}\".format(train.shape[1], train.shape[0]))"
      ],
      "execution_count": 3,
      "outputs": [
        {
          "output_type": "stream",
          "text": [
            "Variáveis:\t12\n",
            "Entradas:\t891\n"
          ],
          "name": "stdout"
        }
      ]
    },
    {
      "cell_type": "code",
      "metadata": {
        "id": "tMJHmsq_p02a",
        "colab_type": "code",
        "colab": {
          "base_uri": "https://localhost:8080/",
          "height": 238
        },
        "outputId": "aa73e3be-60a7-4d8f-d671-243e4931de86"
      },
      "source": [
        "train.dtypes"
      ],
      "execution_count": 4,
      "outputs": [
        {
          "output_type": "execute_result",
          "data": {
            "text/plain": [
              "PassengerId      int64\n",
              "Survived         int64\n",
              "Pclass           int64\n",
              "Name            object\n",
              "Sex             object\n",
              "Age            float64\n",
              "SibSp            int64\n",
              "Parch            int64\n",
              "Ticket          object\n",
              "Fare           float64\n",
              "Cabin           object\n",
              "Embarked        object\n",
              "dtype: object"
            ]
          },
          "metadata": {
            "tags": []
          },
          "execution_count": 4
        }
      ]
    },
    {
      "cell_type": "markdown",
      "metadata": {
        "id": "IwubN5FJso4M",
        "colab_type": "text"
      },
      "source": [
        "**Observar amostra dos dados**"
      ]
    },
    {
      "cell_type": "code",
      "metadata": {
        "id": "P0iUgjhlsqDL",
        "colab_type": "code",
        "colab": {
          "base_uri": "https://localhost:8080/",
          "height": 204
        },
        "outputId": "50c3bc7e-d56f-4792-c99f-fbab9c8ae9ad"
      },
      "source": [
        "train.head()"
      ],
      "execution_count": 5,
      "outputs": [
        {
          "output_type": "execute_result",
          "data": {
            "text/html": [
              "<div>\n",
              "<style scoped>\n",
              "    .dataframe tbody tr th:only-of-type {\n",
              "        vertical-align: middle;\n",
              "    }\n",
              "\n",
              "    .dataframe tbody tr th {\n",
              "        vertical-align: top;\n",
              "    }\n",
              "\n",
              "    .dataframe thead th {\n",
              "        text-align: right;\n",
              "    }\n",
              "</style>\n",
              "<table border=\"1\" class=\"dataframe\">\n",
              "  <thead>\n",
              "    <tr style=\"text-align: right;\">\n",
              "      <th></th>\n",
              "      <th>PassengerId</th>\n",
              "      <th>Survived</th>\n",
              "      <th>Pclass</th>\n",
              "      <th>Name</th>\n",
              "      <th>Sex</th>\n",
              "      <th>Age</th>\n",
              "      <th>SibSp</th>\n",
              "      <th>Parch</th>\n",
              "      <th>Ticket</th>\n",
              "      <th>Fare</th>\n",
              "      <th>Cabin</th>\n",
              "      <th>Embarked</th>\n",
              "    </tr>\n",
              "  </thead>\n",
              "  <tbody>\n",
              "    <tr>\n",
              "      <th>0</th>\n",
              "      <td>1</td>\n",
              "      <td>0</td>\n",
              "      <td>3</td>\n",
              "      <td>Braund, Mr. Owen Harris</td>\n",
              "      <td>male</td>\n",
              "      <td>22.0</td>\n",
              "      <td>1</td>\n",
              "      <td>0</td>\n",
              "      <td>A/5 21171</td>\n",
              "      <td>7.2500</td>\n",
              "      <td>NaN</td>\n",
              "      <td>S</td>\n",
              "    </tr>\n",
              "    <tr>\n",
              "      <th>1</th>\n",
              "      <td>2</td>\n",
              "      <td>1</td>\n",
              "      <td>1</td>\n",
              "      <td>Cumings, Mrs. John Bradley (Florence Briggs Th...</td>\n",
              "      <td>female</td>\n",
              "      <td>38.0</td>\n",
              "      <td>1</td>\n",
              "      <td>0</td>\n",
              "      <td>PC 17599</td>\n",
              "      <td>71.2833</td>\n",
              "      <td>C85</td>\n",
              "      <td>C</td>\n",
              "    </tr>\n",
              "    <tr>\n",
              "      <th>2</th>\n",
              "      <td>3</td>\n",
              "      <td>1</td>\n",
              "      <td>3</td>\n",
              "      <td>Heikkinen, Miss. Laina</td>\n",
              "      <td>female</td>\n",
              "      <td>26.0</td>\n",
              "      <td>0</td>\n",
              "      <td>0</td>\n",
              "      <td>STON/O2. 3101282</td>\n",
              "      <td>7.9250</td>\n",
              "      <td>NaN</td>\n",
              "      <td>S</td>\n",
              "    </tr>\n",
              "    <tr>\n",
              "      <th>3</th>\n",
              "      <td>4</td>\n",
              "      <td>1</td>\n",
              "      <td>1</td>\n",
              "      <td>Futrelle, Mrs. Jacques Heath (Lily May Peel)</td>\n",
              "      <td>female</td>\n",
              "      <td>35.0</td>\n",
              "      <td>1</td>\n",
              "      <td>0</td>\n",
              "      <td>113803</td>\n",
              "      <td>53.1000</td>\n",
              "      <td>C123</td>\n",
              "      <td>S</td>\n",
              "    </tr>\n",
              "    <tr>\n",
              "      <th>4</th>\n",
              "      <td>5</td>\n",
              "      <td>0</td>\n",
              "      <td>3</td>\n",
              "      <td>Allen, Mr. William Henry</td>\n",
              "      <td>male</td>\n",
              "      <td>35.0</td>\n",
              "      <td>0</td>\n",
              "      <td>0</td>\n",
              "      <td>373450</td>\n",
              "      <td>8.0500</td>\n",
              "      <td>NaN</td>\n",
              "      <td>S</td>\n",
              "    </tr>\n",
              "  </tbody>\n",
              "</table>\n",
              "</div>"
            ],
            "text/plain": [
              "   PassengerId  Survived  Pclass  ...     Fare Cabin  Embarked\n",
              "0            1         0       3  ...   7.2500   NaN         S\n",
              "1            2         1       1  ...  71.2833   C85         C\n",
              "2            3         1       3  ...   7.9250   NaN         S\n",
              "3            4         1       1  ...  53.1000  C123         S\n",
              "4            5         0       3  ...   8.0500   NaN         S\n",
              "\n",
              "[5 rows x 12 columns]"
            ]
          },
          "metadata": {
            "tags": []
          },
          "execution_count": 5
        }
      ]
    },
    {
      "cell_type": "markdown",
      "metadata": {
        "id": "WchjBgygtgjE",
        "colab_type": "text"
      },
      "source": [
        "**Descrever estatisticamente os dados**"
      ]
    },
    {
      "cell_type": "code",
      "metadata": {
        "id": "G_g5E7HXtib4",
        "colab_type": "code",
        "colab": {
          "base_uri": "https://localhost:8080/",
          "height": 297
        },
        "outputId": "99fe95ad-69ca-4d9d-b67d-37c815a30f4f"
      },
      "source": [
        "train.describe()"
      ],
      "execution_count": 6,
      "outputs": [
        {
          "output_type": "execute_result",
          "data": {
            "text/html": [
              "<div>\n",
              "<style scoped>\n",
              "    .dataframe tbody tr th:only-of-type {\n",
              "        vertical-align: middle;\n",
              "    }\n",
              "\n",
              "    .dataframe tbody tr th {\n",
              "        vertical-align: top;\n",
              "    }\n",
              "\n",
              "    .dataframe thead th {\n",
              "        text-align: right;\n",
              "    }\n",
              "</style>\n",
              "<table border=\"1\" class=\"dataframe\">\n",
              "  <thead>\n",
              "    <tr style=\"text-align: right;\">\n",
              "      <th></th>\n",
              "      <th>PassengerId</th>\n",
              "      <th>Survived</th>\n",
              "      <th>Pclass</th>\n",
              "      <th>Age</th>\n",
              "      <th>SibSp</th>\n",
              "      <th>Parch</th>\n",
              "      <th>Fare</th>\n",
              "    </tr>\n",
              "  </thead>\n",
              "  <tbody>\n",
              "    <tr>\n",
              "      <th>count</th>\n",
              "      <td>891.000000</td>\n",
              "      <td>891.000000</td>\n",
              "      <td>891.000000</td>\n",
              "      <td>714.000000</td>\n",
              "      <td>891.000000</td>\n",
              "      <td>891.000000</td>\n",
              "      <td>891.000000</td>\n",
              "    </tr>\n",
              "    <tr>\n",
              "      <th>mean</th>\n",
              "      <td>446.000000</td>\n",
              "      <td>0.383838</td>\n",
              "      <td>2.308642</td>\n",
              "      <td>29.699118</td>\n",
              "      <td>0.523008</td>\n",
              "      <td>0.381594</td>\n",
              "      <td>32.204208</td>\n",
              "    </tr>\n",
              "    <tr>\n",
              "      <th>std</th>\n",
              "      <td>257.353842</td>\n",
              "      <td>0.486592</td>\n",
              "      <td>0.836071</td>\n",
              "      <td>14.526497</td>\n",
              "      <td>1.102743</td>\n",
              "      <td>0.806057</td>\n",
              "      <td>49.693429</td>\n",
              "    </tr>\n",
              "    <tr>\n",
              "      <th>min</th>\n",
              "      <td>1.000000</td>\n",
              "      <td>0.000000</td>\n",
              "      <td>1.000000</td>\n",
              "      <td>0.420000</td>\n",
              "      <td>0.000000</td>\n",
              "      <td>0.000000</td>\n",
              "      <td>0.000000</td>\n",
              "    </tr>\n",
              "    <tr>\n",
              "      <th>25%</th>\n",
              "      <td>223.500000</td>\n",
              "      <td>0.000000</td>\n",
              "      <td>2.000000</td>\n",
              "      <td>20.125000</td>\n",
              "      <td>0.000000</td>\n",
              "      <td>0.000000</td>\n",
              "      <td>7.910400</td>\n",
              "    </tr>\n",
              "    <tr>\n",
              "      <th>50%</th>\n",
              "      <td>446.000000</td>\n",
              "      <td>0.000000</td>\n",
              "      <td>3.000000</td>\n",
              "      <td>28.000000</td>\n",
              "      <td>0.000000</td>\n",
              "      <td>0.000000</td>\n",
              "      <td>14.454200</td>\n",
              "    </tr>\n",
              "    <tr>\n",
              "      <th>75%</th>\n",
              "      <td>668.500000</td>\n",
              "      <td>1.000000</td>\n",
              "      <td>3.000000</td>\n",
              "      <td>38.000000</td>\n",
              "      <td>1.000000</td>\n",
              "      <td>0.000000</td>\n",
              "      <td>31.000000</td>\n",
              "    </tr>\n",
              "    <tr>\n",
              "      <th>max</th>\n",
              "      <td>891.000000</td>\n",
              "      <td>1.000000</td>\n",
              "      <td>3.000000</td>\n",
              "      <td>80.000000</td>\n",
              "      <td>8.000000</td>\n",
              "      <td>6.000000</td>\n",
              "      <td>512.329200</td>\n",
              "    </tr>\n",
              "  </tbody>\n",
              "</table>\n",
              "</div>"
            ],
            "text/plain": [
              "       PassengerId    Survived      Pclass  ...       SibSp       Parch        Fare\n",
              "count   891.000000  891.000000  891.000000  ...  891.000000  891.000000  891.000000\n",
              "mean    446.000000    0.383838    2.308642  ...    0.523008    0.381594   32.204208\n",
              "std     257.353842    0.486592    0.836071  ...    1.102743    0.806057   49.693429\n",
              "min       1.000000    0.000000    1.000000  ...    0.000000    0.000000    0.000000\n",
              "25%     223.500000    0.000000    2.000000  ...    0.000000    0.000000    7.910400\n",
              "50%     446.000000    0.000000    3.000000  ...    0.000000    0.000000   14.454200\n",
              "75%     668.500000    1.000000    3.000000  ...    1.000000    0.000000   31.000000\n",
              "max     891.000000    1.000000    3.000000  ...    8.000000    6.000000  512.329200\n",
              "\n",
              "[8 rows x 7 columns]"
            ]
          },
          "metadata": {
            "tags": []
          },
          "execution_count": 6
        }
      ]
    },
    {
      "cell_type": "markdown",
      "metadata": {
        "id": "VBu7-XMtvLm-",
        "colab_type": "text"
      },
      "source": [
        "**Visualizar distribuição dos dados**"
      ]
    },
    {
      "cell_type": "code",
      "metadata": {
        "id": "jhhqV6QwvcCu",
        "colab_type": "code",
        "colab": {
          "base_uri": "https://localhost:8080/",
          "height": 499
        },
        "outputId": "03870921-3060-4c20-8b68-07082be498f5"
      },
      "source": [
        "train.hist(figsize=(10,8));"
      ],
      "execution_count": 7,
      "outputs": [
        {
          "output_type": "display_data",
          "data": {
            "image/png": "[encoded data removed]",
            "text/plain": [
              "<Figure size 720x576 with 9 Axes>"
            ]
          },
          "metadata": {
            "tags": [],
            "needs_background": "light"
          }
        }
      ]
    },
    {
      "cell_type": "markdown",
      "metadata": {
        "id": "hC-BDlB1DSg-",
        "colab_type": "text"
      },
      "source": [
        "**Analisar a probabilidade de sobrevivência pelo Sexo**"
      ]
    },
    {
      "cell_type": "code",
      "metadata": {
        "id": "kBsLWdsCB-Z_",
        "colab_type": "code",
        "colab": {
          "base_uri": "https://localhost:8080/",
          "height": 142
        },
        "outputId": "7f137f52-1630-403b-9f5c-f7ddcc41805a"
      },
      "source": [
        "train[['Sex', 'Survived']].groupby(['Sex']).mean()"
      ],
      "execution_count": 8,
      "outputs": [
        {
          "output_type": "execute_result",
          "data": {
            "text/html": [
              "<div>\n",
              "<style scoped>\n",
              "    .dataframe tbody tr th:only-of-type {\n",
              "        vertical-align: middle;\n",
              "    }\n",
              "\n",
              "    .dataframe tbody tr th {\n",
              "        vertical-align: top;\n",
              "    }\n",
              "\n",
              "    .dataframe thead th {\n",
              "        text-align: right;\n",
              "    }\n",
              "</style>\n",
              "<table border=\"1\" class=\"dataframe\">\n",
              "  <thead>\n",
              "    <tr style=\"text-align: right;\">\n",
              "      <th></th>\n",
              "      <th>Survived</th>\n",
              "    </tr>\n",
              "    <tr>\n",
              "      <th>Sex</th>\n",
              "      <th></th>\n",
              "    </tr>\n",
              "  </thead>\n",
              "  <tbody>\n",
              "    <tr>\n",
              "      <th>female</th>\n",
              "      <td>0.742038</td>\n",
              "    </tr>\n",
              "    <tr>\n",
              "      <th>male</th>\n",
              "      <td>0.188908</td>\n",
              "    </tr>\n",
              "  </tbody>\n",
              "</table>\n",
              "</div>"
            ],
            "text/plain": [
              "        Survived\n",
              "Sex             \n",
              "female  0.742038\n",
              "male    0.188908"
            ]
          },
          "metadata": {
            "tags": []
          },
          "execution_count": 8
        }
      ]
    },
    {
      "cell_type": "markdown",
      "metadata": {
        "id": "n5z54Z3bD4fz",
        "colab_type": "text"
      },
      "source": [
        "**Plotar os gráficos para Survived vs. Sex, Pclass e Embarked**"
      ]
    },
    {
      "cell_type": "code",
      "metadata": {
        "id": "TAiTv7QxDeLs",
        "colab_type": "code",
        "colab": {
          "base_uri": "https://localhost:8080/",
          "height": 279
        },
        "outputId": "9b5a7a6e-6cc4-451c-d461-3ed339917244"
      },
      "source": [
        "fig, (axis1, axis2, axis3) = plt.subplots(1,3, figsize=(12,4))\n",
        "\n",
        "sns.barplot(x='Sex', y='Survived', data=train, ax=axis1)\n",
        "sns.barplot(x='Pclass', y='Survived', data=train, ax=axis2)\n",
        "sns.barplot(x='Embarked', y='Survived', data=train, ax=axis3);"
      ],
      "execution_count": 9,
      "outputs": [
        {
          "output_type": "display_data",
          "data": {
            "image/png": "[encoded data removed]",
            "text/plain": [
              "<Figure size 864x288 with 3 Axes>"
            ]
          },
          "metadata": {
            "tags": [],
            "needs_background": "light"
          }
        }
      ]
    },
    {
      "cell_type": "markdown",
      "metadata": {
        "id": "M5jufKPqwGqv",
        "colab_type": "text"
      },
      "source": [
        "# **Data Preparation**"
      ]
    },
    {
      "cell_type": "markdown",
      "metadata": {
        "id": "FK4Cqt1owwEV",
        "colab_type": "text"
      },
      "source": [
        "**Juntar os conjuntos de dados de treino e teste**\n",
        "\n",
        "---\n",
        "Salvar os índices dos datasets para recuperação posterior\n"
      ]
    },
    {
      "cell_type": "code",
      "metadata": {
        "id": "feoyhw-AwJFr",
        "colab_type": "code",
        "colab": {}
      },
      "source": [
        "train_idx = train.shape[0]\n",
        "test_idx = test.shape[0]"
      ],
      "execution_count": 10,
      "outputs": []
    },
    {
      "cell_type": "markdown",
      "metadata": {
        "id": "3lyMqEF0xkSH",
        "colab_type": "text"
      },
      "source": [
        "Salvar PassengerId para submissao ao Kaggle"
      ]
    },
    {
      "cell_type": "code",
      "metadata": {
        "id": "2WUlORRrxlMu",
        "colab_type": "code",
        "colab": {}
      },
      "source": [
        "passengerId = test['PassengerId']"
      ],
      "execution_count": 11,
      "outputs": []
    },
    {
      "cell_type": "markdown",
      "metadata": {
        "id": "KD7xWY6gxwg_",
        "colab_type": "text"
      },
      "source": [
        "Extrair coluna 'Survived' e excluir ela do dataset treino"
      ]
    },
    {
      "cell_type": "code",
      "metadata": {
        "id": "RoqS_PYyxxM2",
        "colab_type": "code",
        "colab": {}
      },
      "source": [
        "target = train.Survived.copy()\n",
        "train.drop(['Survived'], axis=1, inplace=True)"
      ],
      "execution_count": 12,
      "outputs": []
    },
    {
      "cell_type": "markdown",
      "metadata": {
        "id": "WW1ROHvQyO-M",
        "colab_type": "text"
      },
      "source": [
        "Concatenar treino e teste em um único DataFrame"
      ]
    },
    {
      "cell_type": "code",
      "metadata": {
        "id": "p-sA05NeyQ3I",
        "colab_type": "code",
        "colab": {
          "base_uri": "https://localhost:8080/",
          "height": 34
        },
        "outputId": "0bdaf6b6-f1b1-4446-a284-b6bcb3c2e946"
      },
      "source": [
        "df_merged = pd.concat(objs=[train, test], axis=0).reset_index(drop=True)\n",
        "\n",
        "print(\"df_merged.shape: ({} x {})\".format(df_merged.shape[0], df_merged.shape[1]))"
      ],
      "execution_count": 13,
      "outputs": [
        {
          "output_type": "stream",
          "text": [
            "df_merged.shape: (1309 x 11)\n"
          ],
          "name": "stdout"
        }
      ]
    },
    {
      "cell_type": "markdown",
      "metadata": {
        "id": "rr0eY1-my6RK",
        "colab_type": "text"
      },
      "source": [
        "**Retirar dados irrelevantes**"
      ]
    },
    {
      "cell_type": "code",
      "metadata": {
        "id": "U7gWEmIzzA9E",
        "colab_type": "code",
        "colab": {
          "base_uri": "https://localhost:8080/",
          "height": 204
        },
        "outputId": "a86381e1-93ca-4fde-f2e8-a741ab8f252e"
      },
      "source": [
        "df_merged.drop(['PassengerId', 'Name', 'Ticket', 'Cabin', 'Fare'], axis=1, inplace=True)\n",
        "\n",
        "display(df_merged.head())"
      ],
      "execution_count": 14,
      "outputs": [
        {
          "output_type": "display_data",
          "data": {
            "text/html": [
              "<div>\n",
              "<style scoped>\n",
              "    .dataframe tbody tr th:only-of-type {\n",
              "        vertical-align: middle;\n",
              "    }\n",
              "\n",
              "    .dataframe tbody tr th {\n",
              "        vertical-align: top;\n",
              "    }\n",
              "\n",
              "    .dataframe thead th {\n",
              "        text-align: right;\n",
              "    }\n",
              "</style>\n",
              "<table border=\"1\" class=\"dataframe\">\n",
              "  <thead>\n",
              "    <tr style=\"text-align: right;\">\n",
              "      <th></th>\n",
              "      <th>Pclass</th>\n",
              "      <th>Sex</th>\n",
              "      <th>Age</th>\n",
              "      <th>SibSp</th>\n",
              "      <th>Parch</th>\n",
              "      <th>Embarked</th>\n",
              "    </tr>\n",
              "  </thead>\n",
              "  <tbody>\n",
              "    <tr>\n",
              "      <th>0</th>\n",
              "      <td>3</td>\n",
              "      <td>male</td>\n",
              "      <td>22.0</td>\n",
              "      <td>1</td>\n",
              "      <td>0</td>\n",
              "      <td>S</td>\n",
              "    </tr>\n",
              "    <tr>\n",
              "      <th>1</th>\n",
              "      <td>1</td>\n",
              "      <td>female</td>\n",
              "      <td>38.0</td>\n",
              "      <td>1</td>\n",
              "      <td>0</td>\n",
              "      <td>C</td>\n",
              "    </tr>\n",
              "    <tr>\n",
              "      <th>2</th>\n",
              "      <td>3</td>\n",
              "      <td>female</td>\n",
              "      <td>26.0</td>\n",
              "      <td>0</td>\n",
              "      <td>0</td>\n",
              "      <td>S</td>\n",
              "    </tr>\n",
              "    <tr>\n",
              "      <th>3</th>\n",
              "      <td>1</td>\n",
              "      <td>female</td>\n",
              "      <td>35.0</td>\n",
              "      <td>1</td>\n",
              "      <td>0</td>\n",
              "      <td>S</td>\n",
              "    </tr>\n",
              "    <tr>\n",
              "      <th>4</th>\n",
              "      <td>3</td>\n",
              "      <td>male</td>\n",
              "      <td>35.0</td>\n",
              "      <td>0</td>\n",
              "      <td>0</td>\n",
              "      <td>S</td>\n",
              "    </tr>\n",
              "  </tbody>\n",
              "</table>\n",
              "</div>"
            ],
            "text/plain": [
              "   Pclass     Sex   Age  SibSp  Parch Embarked\n",
              "0       3    male  22.0      1      0        S\n",
              "1       1  female  38.0      1      0        C\n",
              "2       3  female  26.0      0      0        S\n",
              "3       1  female  35.0      1      0        S\n",
              "4       3    male  35.0      0      0        S"
            ]
          },
          "metadata": {
            "tags": []
          }
        }
      ]
    },
    {
      "cell_type": "markdown",
      "metadata": {
        "id": "NNjTQVeEzRYG",
        "colab_type": "text"
      },
      "source": [
        "**Verificar presença de valores nulos**"
      ]
    },
    {
      "cell_type": "code",
      "metadata": {
        "id": "UQBbWkfHzXfE",
        "colab_type": "code",
        "colab": {
          "base_uri": "https://localhost:8080/",
          "height": 136
        },
        "outputId": "5af6a372-2f73-4d08-f35d-8327a341b69c"
      },
      "source": [
        "df_merged.isnull().sum()"
      ],
      "execution_count": 15,
      "outputs": [
        {
          "output_type": "execute_result",
          "data": {
            "text/plain": [
              "Pclass        0\n",
              "Sex           0\n",
              "Age         263\n",
              "SibSp         0\n",
              "Parch         0\n",
              "Embarked      2\n",
              "dtype: int64"
            ]
          },
          "metadata": {
            "tags": []
          },
          "execution_count": 15
        }
      ]
    },
    {
      "cell_type": "markdown",
      "metadata": {
        "id": "RJFqj4lu0xFE",
        "colab_type": "text"
      },
      "source": [
        "**Tratar valores nulos**\n",
        "\n",
        "São tratamentos comuns para valores nulos:\n",
        "\n",
        "* Exclusão do atributo (caso ele seja nulo para grande parte das instâncias);\n",
        "* Exclusão da instância (caso ela seja nula para grande parte dos atributos);\n",
        "* Imputação por estatísticas simples, como média, mediana ou moda (podem ser calculadas para sub-amostras);\n",
        "* Imputação por regressão e modelos preditivos.\n",
        "\n",
        "---\n",
        "Age: calcular o valor da mediana\n"
      ]
    },
    {
      "cell_type": "code",
      "metadata": {
        "id": "A7rbqxaa1FGv",
        "colab_type": "code",
        "colab": {}
      },
      "source": [
        "age_median = df_merged['Age'].median()\n",
        "df_merged['Age'].fillna(age_median, inplace=True)"
      ],
      "execution_count": 16,
      "outputs": []
    },
    {
      "cell_type": "markdown",
      "metadata": {
        "id": "JKuzFgBJ2Lkm",
        "colab_type": "text"
      },
      "source": [
        "Embarked: adicionar o valor com maior frequência"
      ]
    },
    {
      "cell_type": "code",
      "metadata": {
        "id": "eTtKpBRW2ToJ",
        "colab_type": "code",
        "colab": {}
      },
      "source": [
        "embarked_top = df_merged['Embarked'].value_counts()[0]\n",
        "df_merged['Embarked'].fillna(embarked_top, inplace=True)"
      ],
      "execution_count": 17,
      "outputs": []
    },
    {
      "cell_type": "markdown",
      "metadata": {
        "id": "1ov6dtGJ3ll7",
        "colab_type": "text"
      },
      "source": [
        "**Preparar as variáveis para o modelo de Machine Learnig**"
      ]
    },
    {
      "cell_type": "markdown",
      "metadata": {
        "id": "h6qB8hsb36ZV",
        "colab_type": "text"
      },
      "source": [
        "Converter 'Sex' em 0 e 1"
      ]
    },
    {
      "cell_type": "code",
      "metadata": {
        "id": "Hm9tS5FP3xBZ",
        "colab_type": "code",
        "colab": {}
      },
      "source": [
        "df_merged['Sex'] = df_merged['Sex'].map({'male': 0, 'female': 1})"
      ],
      "execution_count": 18,
      "outputs": []
    },
    {
      "cell_type": "markdown",
      "metadata": {
        "id": "sDLHPn4F4AKL",
        "colab_type": "text"
      },
      "source": [
        "Dummie variables para 'Embaked'"
      ]
    },
    {
      "cell_type": "code",
      "metadata": {
        "id": "bgIvPE4M4VQM",
        "colab_type": "code",
        "colab": {
          "base_uri": "https://localhost:8080/",
          "height": 204
        },
        "outputId": "4a0e03b9-763e-4cae-af14-112082954a96"
      },
      "source": [
        "embarked_dummies = pd.get_dummies(df_merged['Embarked'], prefix='Embarked')\n",
        "df_merged = pd.concat([df_merged, embarked_dummies], axis=1)\n",
        "df_merged.drop('Embarked', axis=1, inplace=True)\n",
        "\n",
        "display(df_merged.head())"
      ],
      "execution_count": 19,
      "outputs": [
        {
          "output_type": "display_data",
          "data": {
            "text/html": [
              "<div>\n",
              "<style scoped>\n",
              "    .dataframe tbody tr th:only-of-type {\n",
              "        vertical-align: middle;\n",
              "    }\n",
              "\n",
              "    .dataframe tbody tr th {\n",
              "        vertical-align: top;\n",
              "    }\n",
              "\n",
              "    .dataframe thead th {\n",
              "        text-align: right;\n",
              "    }\n",
              "</style>\n",
              "<table border=\"1\" class=\"dataframe\">\n",
              "  <thead>\n",
              "    <tr style=\"text-align: right;\">\n",
              "      <th></th>\n",
              "      <th>Pclass</th>\n",
              "      <th>Sex</th>\n",
              "      <th>Age</th>\n",
              "      <th>SibSp</th>\n",
              "      <th>Parch</th>\n",
              "      <th>Embarked_914</th>\n",
              "      <th>Embarked_C</th>\n",
              "      <th>Embarked_Q</th>\n",
              "      <th>Embarked_S</th>\n",
              "    </tr>\n",
              "  </thead>\n",
              "  <tbody>\n",
              "    <tr>\n",
              "      <th>0</th>\n",
              "      <td>3</td>\n",
              "      <td>0</td>\n",
              "      <td>22.0</td>\n",
              "      <td>1</td>\n",
              "      <td>0</td>\n",
              "      <td>0</td>\n",
              "      <td>0</td>\n",
              "      <td>0</td>\n",
              "      <td>1</td>\n",
              "    </tr>\n",
              "    <tr>\n",
              "      <th>1</th>\n",
              "      <td>1</td>\n",
              "      <td>1</td>\n",
              "      <td>38.0</td>\n",
              "      <td>1</td>\n",
              "      <td>0</td>\n",
              "      <td>0</td>\n",
              "      <td>1</td>\n",
              "      <td>0</td>\n",
              "      <td>0</td>\n",
              "    </tr>\n",
              "    <tr>\n",
              "      <th>2</th>\n",
              "      <td>3</td>\n",
              "      <td>1</td>\n",
              "      <td>26.0</td>\n",
              "      <td>0</td>\n",
              "      <td>0</td>\n",
              "      <td>0</td>\n",
              "      <td>0</td>\n",
              "      <td>0</td>\n",
              "      <td>1</td>\n",
              "    </tr>\n",
              "    <tr>\n",
              "      <th>3</th>\n",
              "      <td>1</td>\n",
              "      <td>1</td>\n",
              "      <td>35.0</td>\n",
              "      <td>1</td>\n",
              "      <td>0</td>\n",
              "      <td>0</td>\n",
              "      <td>0</td>\n",
              "      <td>0</td>\n",
              "      <td>1</td>\n",
              "    </tr>\n",
              "    <tr>\n",
              "      <th>4</th>\n",
              "      <td>3</td>\n",
              "      <td>0</td>\n",
              "      <td>35.0</td>\n",
              "      <td>0</td>\n",
              "      <td>0</td>\n",
              "      <td>0</td>\n",
              "      <td>0</td>\n",
              "      <td>0</td>\n",
              "      <td>1</td>\n",
              "    </tr>\n",
              "  </tbody>\n",
              "</table>\n",
              "</div>"
            ],
            "text/plain": [
              "   Pclass  Sex   Age  SibSp  ...  Embarked_914  Embarked_C  Embarked_Q  Embarked_S\n",
              "0       3    0  22.0      1  ...             0           0           0           1\n",
              "1       1    1  38.0      1  ...             0           1           0           0\n",
              "2       3    1  26.0      0  ...             0           0           0           1\n",
              "3       1    1  35.0      1  ...             0           0           0           1\n",
              "4       3    0  35.0      0  ...             0           0           0           1\n",
              "\n",
              "[5 rows x 9 columns]"
            ]
          },
          "metadata": {
            "tags": []
          }
        }
      ]
    },
    {
      "cell_type": "markdown",
      "metadata": {
        "id": "q3vGW8Jl5MNQ",
        "colab_type": "text"
      },
      "source": [
        "**Recuperar os conjunto de dados de treino e teste**"
      ]
    },
    {
      "cell_type": "code",
      "metadata": {
        "id": "EDHouMcC5OBI",
        "colab_type": "code",
        "colab": {}
      },
      "source": [
        "train = df_merged.iloc[:train_idx]\n",
        "test = df_merged.iloc[train_idx:]"
      ],
      "execution_count": 20,
      "outputs": []
    },
    {
      "cell_type": "markdown",
      "metadata": {
        "id": "iyHs9Yf35Rvr",
        "colab_type": "text"
      },
      "source": [
        "# **Modeling e Evaluating**"
      ]
    },
    {
      "cell_type": "markdown",
      "metadata": {
        "id": "wBAuuBZf5dKi",
        "colab_type": "text"
      },
      "source": [
        "Criar um modelo de Machine Learning de Regressão Logística"
      ]
    },
    {
      "cell_type": "code",
      "metadata": {
        "id": "rSwVhLsj5e5r",
        "colab_type": "code",
        "colab": {
          "base_uri": "https://localhost:8080/",
          "height": 34
        },
        "outputId": "9955fbe9-526b-4743-b4d7-55e4f2a11dbc"
      },
      "source": [
        "from sklearn.linear_model import LogisticRegression\n",
        "\n",
        "lr_model = LogisticRegression(solver='liblinear')\n",
        "lr_model.fit(train, target)\n",
        "\n",
        "# verificar a acurácia do modelo\n",
        "acc_logReg = round(lr_model.score(train, target) * 100, 2)\n",
        "print(\"Acurácia do modelo de Regressão Logística: {}\".format(acc_logReg))"
      ],
      "execution_count": 21,
      "outputs": [
        {
          "output_type": "stream",
          "text": [
            "Acurácia do modelo de Regressão Logística: 80.02\n"
          ],
          "name": "stdout"
        }
      ]
    },
    {
      "cell_type": "markdown",
      "metadata": {
        "id": "uUzfyGI77fCv",
        "colab_type": "text"
      },
      "source": [
        "Criar um modelo de Machine Learning de Árvore de Decisão"
      ]
    },
    {
      "cell_type": "code",
      "metadata": {
        "id": "h1AeKPaM7mBD",
        "colab_type": "code",
        "colab": {
          "base_uri": "https://localhost:8080/",
          "height": 34
        },
        "outputId": "40909e8f-d01d-4e16-a93c-7beedce19134"
      },
      "source": [
        "from sklearn.tree import DecisionTreeClassifier\n",
        "\n",
        "tree_model = DecisionTreeClassifier(max_depth=3)\n",
        "tree_model.fit(train, target)\n",
        "\n",
        "# verificar a acurácia do modelo\n",
        "acc_tree = round(tree_model.score(train, target) * 100, 2)\n",
        "print(\"Acurácia do modelo de Árvore de Decisão: {}\".format(acc_tree))"
      ],
      "execution_count": 22,
      "outputs": [
        {
          "output_type": "stream",
          "text": [
            "Acurácia do modelo de Árvore de Decisão: 82.83\n"
          ],
          "name": "stdout"
        }
      ]
    },
    {
      "cell_type": "markdown",
      "metadata": {
        "id": "9KlNytx5dYor",
        "colab_type": "text"
      },
      "source": [
        "**Submetendo os resultados ao Kaggle**"
      ]
    },
    {
      "cell_type": "code",
      "metadata": {
        "id": "4cvU_6RgdfA0",
        "colab_type": "code",
        "colab": {}
      },
      "source": [
        "# Regressão Lógística\n",
        "y_pred_lr = lr_model.predict(test)\n",
        "\n",
        "submission = pd.DataFrame({\"PassengerId\": passengerId, \"Survived\": y_pred_lr})\n",
        "\n",
        "submission.to_csv('./submission_lr.csv', index=False)\n",
        "\n",
        "#Árvore de Decisão\n",
        "y_pred_tree = tree_model.predict(test)\n",
        "\n",
        "submission = pd.DataFrame({\"PassengerId\": passengerId, \"Survived\": y_pred_tree})\n",
        "\n",
        "submission.to_csv('./submission_tree.csv', index=False)"
      ],
      "execution_count": 25,
      "outputs": []
    },
    {
      "cell_type": "markdown",
      "metadata": {
        "id": "Kq2z-Xby72bb",
        "colab_type": "text"
      },
      "source": [
        "# **Eu sobreviveria ao Titanic?**"
      ]
    },
    {
      "cell_type": "markdown",
      "metadata": {
        "id": "1WWIZ0NN8F-Q",
        "colab_type": "text"
      },
      "source": [
        "Árvore de Decisão"
      ]
    },
    {
      "cell_type": "code",
      "metadata": {
        "id": "mAv0PvoS79z2",
        "colab_type": "code",
        "colab": {
          "base_uri": "https://localhost:8080/",
          "height": 34
        },
        "outputId": "6599e798-f715-46e5-ecb7-f7a5d87a6ef7"
      },
      "source": [
        "isabelle_lima = np.array([1, 1, 24, 0, 1, 0, 0, 1, 0]).reshape((1, -1))\n",
        "\n",
        "print(\"Isabelle Lima:\\t{}\".format(tree_model.predict(isabelle_lima)[0]))\n"
      ],
      "execution_count": 23,
      "outputs": [
        {
          "output_type": "stream",
          "text": [
            "Isabelle Lima:\t1\n"
          ],
          "name": "stdout"
        }
      ]
    },
    {
      "cell_type": "markdown",
      "metadata": {
        "id": "fAR202tL9t3-",
        "colab_type": "text"
      },
      "source": [
        ""
      ]
    },
    {
      "cell_type": "markdown",
      "metadata": {
        "id": "P1skpeaw8_H2",
        "colab_type": "text"
      },
      "source": [
        "Regressão Logística"
      ]
    },
    {
      "cell_type": "code",
      "metadata": {
        "id": "PvkjVwaK8sPl",
        "colab_type": "code",
        "colab": {
          "base_uri": "https://localhost:8080/",
          "height": 34
        },
        "outputId": "1505d0f9-bd8f-4419-cba6-a2820c99cd5b"
      },
      "source": [
        "isabelle_lima = np.array([2, 1, 24, 0, 1, 0, 0, 1, 0]).reshape((1, -1))\n",
        "\n",
        "print(\"Isabelle Lima:\\t{}\".format(lr_model.predict(isabelle_lima)[0]))"
      ],
      "execution_count": 24,
      "outputs": [
        {
          "output_type": "stream",
          "text": [
            "Isabelle Lima:\t1\n"
          ],
          "name": "stdout"
        }
      ]
    }
  ]
}